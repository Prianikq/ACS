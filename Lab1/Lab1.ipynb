{
 "cells": [
  {
   "cell_type": "markdown",
   "metadata": {},
   "source": [
    "# Лабораторная работа №1\n",
    "\n",
    "## по курсу \"Системы аналитических вычислений\"\n",
    "\n",
    "### студент: Ляшун Д.С."
   ]
  },
  {
   "cell_type": "markdown",
   "metadata": {},
   "source": [
    "<h1>Задание 1 - часть 1 - Квадратик</h1>"
   ]
  },
  {
   "cell_type": "code",
   "execution_count": 41,
   "metadata": {},
   "outputs": [
    {
     "data": {
      "image/png": "[encoded data removed]",
      "text/plain": [
       "Graphics object consisting of 2 graphics primitives"
      ]
     },
     "metadata": {},
     "output_type": "display_data"
    }
   ],
   "source": [
    "import math\n",
    "a = 10\n",
    "rectangle_src = matrix([[0, 0], [0, a], [a, a], [a, 0], [0, 0]])\n",
    "alpha = math.radians(30)\n",
    "mat_rot = matrix([\n",
    "    [cos(alpha), sin(alpha)]\n",
    "    , [ -sin(alpha), cos(alpha)]\n",
    "])\n",
    "rectangle_rotated =  rectangle_src * mat_rot\n",
    "def matrix_shift(matrix, x, y):\n",
    "    return [[row[0]+x, row[1]+y] for row in matrix]\n",
    "rectangle_shift = matrix_shift(rectangle_rotated, 5, 5)\n",
    "show(\n",
    "    line(rectangle_src)\n",
    "    + line(rectangle_shift)\n",
    "    , xmin=-20, xmax=20, ymin=0, ymax=20, aspect_ratio=1)\n"
   ]
  },
  {
   "cell_type": "markdown",
   "metadata": {},
   "source": [
    "<h1>Задание 1 - Часть 2 - Исследование функции</h1>"
   ]
  },
  {
   "cell_type": "markdown",
   "metadata": {},
   "source": [
    "## Варианты:"
   ]
  },
  {
   "cell_type": "code",
   "execution_count": 2,
   "metadata": {},
   "outputs": [],
   "source": [
    "tasks = [ \n",
    "            sin(2*x**3)**2/x**3  # исправлен\n",
    "            , (x**2 - 4)*sin((pi*(x**2))/6) / (x**2 - 1)\n",
    "            , sqrt(abs(3*x^3 + 2*x^2 - 10*x)) / (4*x)\n",
    "            , 1/2 * ln(sqrt(x^2 + 1) / sqrt(x^2 - 1)) - 15*x**2\n",
    "            , (x^3 - x^2 - x + 1)^(1/3) / tan(x)\n",
    "            , 2*log((x - 1) / x) + 1\n",
    "            , ln(x - 1) / (x - 1)^2\n",
    "        ]"
   ]
  },
  {
   "cell_type": "code",
   "execution_count": 3,
   "metadata": {},
   "outputs": [
    {
     "name": "stdout",
     "output_type": "stream",
     "text": [
      "Номер вашего задания: 5.\n"
     ]
    },
    {
     "data": {
      "text/html": [
       "<html><script type=\"math/tex; mode=display\">\\newcommand{\\Bold}[1]{\\mathbf{#1}}\\verb|Ваша|\\phantom{\\verb!x!}\\verb|функция:| 2 \\, \\log\\left(\\frac{x - 1}{x}\\right) + 1</script></html>"
      ],
      "text/latex": [
       "\\begin{math}\n",
       "\\newcommand{\\Bold}[1]{\\mathbf{#1}}\\verb|Ваша|\\phantom{\\verb!x!}\\verb|функция:| 2 \\, \\log\\left(\\frac{x - 1}{x}\\right) + 1\n",
       "\\end{math}"
      ],
      "text/plain": [
       "'Ваша функция: ' 2*log((x - 1)/x) + 1"
      ]
     },
     "metadata": {},
     "output_type": "display_data"
    }
   ],
   "source": [
    "def get_variant_for_number(_number, _variations_quo):\n",
    "    return (_number - 1) % _variations_quo\n",
    "\n",
    "\n",
    "your_number = 13  # сюда вбить ваш номер по списку в рейтинге \n",
    "number_of_your_task = get_variant_for_number(_number=your_number, _variations_quo=len(tasks))\n",
    "print(f\"Номер вашего задания: {number_of_your_task}.\")\n",
    "show(\"Ваша функция: \", tasks[number_of_your_task])"
   ]
  },
  {
   "cell_type": "markdown",
   "metadata": {},
   "source": [
    "## 1. Область определения"
   ]
  },
  {
   "cell_type": "code",
   "execution_count": 66,
   "metadata": {},
   "outputs": [
    {
     "data": {
      "text/html": [
       "<html><script type=\"math/tex; mode=display\">\\newcommand{\\Bold}[1]{\\mathbf{#1}}\\verb|D(y):| \\verb|[x|\\phantom{\\verb!x!}\\verb|<|\\phantom{\\verb!x!}\\verb|0]∪[x|\\phantom{\\verb!x!}\\verb|>|\\phantom{\\verb!x!}\\verb|1]|</script></html>"
      ],
      "text/latex": [
       "\\begin{math}\n",
       "\\newcommand{\\Bold}[1]{\\mathbf{#1}}\\verb|D(y):| \\verb|[x|\\phantom{\\verb!x!}\\verb|<|\\phantom{\\verb!x!}\\verb|0]∪[x|\\phantom{\\verb!x!}\\verb|>|\\phantom{\\verb!x!}\\verb|1]|\n",
       "\\end{math}"
      ],
      "text/plain": [
       "'D(y): ' '[x < 0]∪[x > 1]'"
      ]
     },
     "metadata": {},
     "output_type": "display_data"
    }
   ],
   "source": [
    "y = tasks[number_of_your_task]\n",
    "g1(x) = (x-1)/x\n",
    "g2(x) = x\n",
    "domain = solve(g1 > 0, x)\n",
    "answer = \"\"\n",
    "for i, value in enumerate(domain):\n",
    "    answer += str(value)+(\"∪\" if i+1 != len(domain) else \"\")\n",
    "show(\"D(y): \", answer)"
   ]
  },
  {
   "cell_type": "markdown",
   "metadata": {},
   "source": [
    "## 2. Является ли функция четной или нечетной, является ли периодической\n",
    "### Четность"
   ]
  },
  {
   "cell_type": "code",
   "execution_count": 12,
   "metadata": {},
   "outputs": [
    {
     "data": {
      "text/html": [
       "<html><script type=\"math/tex; mode=display\">\\newcommand{\\Bold}[1]{\\mathbf{#1}}y(x) - y(-x) = -2*log((x + 1)/x) + 2*log((x - 1)/x)</script></html>"
      ],
      "text/latex": [
       "\\begin{math}\n",
       "\\newcommand{\\Bold}[1]{\\mathbf{#1}}y(x) - y(-x) = -2*log((x + 1)/x) + 2*log((x - 1)/x)\n",
       "\\end{math}"
      ],
      "text/plain": [
       "y(x) - y(-x) = -2*log((x + 1)/x) + 2*log((x - 1)/x)"
      ]
     },
     "metadata": {},
     "output_type": "display_data"
    },
    {
     "data": {
      "text/html": [
       "<html><script type=\"math/tex; mode=display\">\\newcommand{\\Bold}[1]{\\mathbf{#1}}y(x) + y(-x) = 2*log((x + 1)/x) + 2*log((x - 1)/x) + 2</script></html>"
      ],
      "text/latex": [
       "\\begin{math}\n",
       "\\newcommand{\\Bold}[1]{\\mathbf{#1}}y(x) + y(-x) = 2*log((x + 1)/x) + 2*log((x - 1)/x) + 2\n",
       "\\end{math}"
      ],
      "text/plain": [
       "y(x) + y(-x) = 2*log((x + 1)/x) + 2*log((x - 1)/x) + 2"
      ]
     },
     "metadata": {},
     "output_type": "display_data"
    }
   ],
   "source": [
    "g = y(x)- y(-x)\n",
    "g.expand().simplify()\n",
    "show(LatexExpr(\"y(x) - y(-x) = \"+str(g)))\n",
    "g = y(x)+ y(-x)\n",
    "g.expand().simplify()\n",
    "show(LatexExpr(\"y(x) + y(-x) = \"+str(g)))"
   ]
  },
  {
   "cell_type": "markdown",
   "metadata": {},
   "source": [
    "$y(x)-y(-x)\\neq 0$ и $y(x)+y(-x)\\neq 0$, поэтому функция не является ни четной, ни нечетной."
   ]
  },
  {
   "cell_type": "markdown",
   "metadata": {},
   "source": [
    "### Периодичность"
   ]
  },
  {
   "cell_type": "code",
   "execution_count": 5,
   "metadata": {},
   "outputs": [
    {
     "data": {
      "text/html": [
       "<html><script type=\"math/tex; mode=display\">\\newcommand{\\Bold}[1]{\\mathbf{#1}}-2 \\, \\log\\left(\\frac{T + x - 1}{T + x}\\right) + 2 \\, \\log\\left(\\frac{x - 1}{x}\\right) = 0</script></html>"
      ],
      "text/latex": [
       "\\begin{math}\n",
       "\\newcommand{\\Bold}[1]{\\mathbf{#1}}-2 \\, \\log\\left(\\frac{T + x - 1}{T + x}\\right) + 2 \\, \\log\\left(\\frac{x - 1}{x}\\right) = 0\n",
       "\\end{math}"
      ],
      "text/plain": [
       "-2*log((T + x - 1)/(T + x)) + 2*log((x - 1)/x) == 0"
      ]
     },
     "metadata": {},
     "output_type": "display_data"
    },
    {
     "data": {
      "text/html": [
       "<html><script type=\"math/tex; mode=display\">\\newcommand{\\Bold}[1]{\\mathbf{#1}}T = 0</script></html>"
      ],
      "text/latex": [
       "\\begin{math}\n",
       "\\newcommand{\\Bold}[1]{\\mathbf{#1}}T = 0\n",
       "\\end{math}"
      ],
      "text/plain": [
       "T == 0"
      ]
     },
     "metadata": {},
     "output_type": "display_data"
    }
   ],
   "source": [
    "var(\"T\")\n",
    "g = y(x) - y(T + x)\n",
    "show(g==0)\n",
    "simplify(g)\n",
    "solution_period = solve(g==0, T)\n",
    "show(*solution_period)"
   ]
  },
  {
   "cell_type": "markdown",
   "metadata": {},
   "source": [
    "Поскольку уравнение имеет решение только при $T = 0$, получаем, что функция не является периодической."
   ]
  },
  {
   "cell_type": "markdown",
   "metadata": {},
   "source": [
    "## 3. Точки пересечения графика с осями координат"
   ]
  },
  {
   "cell_type": "code",
   "execution_count": 49,
   "metadata": {},
   "outputs": [
    {
     "data": {
      "image/png": "[encoded data removed]",
      "text/plain": [
       "Graphics object consisting of 2 graphics primitives"
      ]
     },
     "execution_count": 49,
     "metadata": {},
     "output_type": "execute_result"
    }
   ],
   "source": [
    "plot(y, xmin = -10.0, xmax = 10.0)"
   ]
  },
  {
   "cell_type": "markdown",
   "metadata": {},
   "source": [
    "### Пересечение с осью OX"
   ]
  },
  {
   "cell_type": "code",
   "execution_count": 32,
   "metadata": {},
   "outputs": [
    {
     "data": {
      "text/html": [
       "<html><script type=\"math/tex; mode=display\">\\newcommand{\\Bold}[1]{\\mathbf{#1}}x_{1} = 2.5414940825367984</script></html>"
      ],
      "text/latex": [
       "\\begin{math}\n",
       "\\newcommand{\\Bold}[1]{\\mathbf{#1}}x_{1} = 2.5414940825367984\n",
       "\\end{math}"
      ],
      "text/plain": [
       "x_{1} = 2.5414940825367984"
      ]
     },
     "metadata": {},
     "output_type": "display_data"
    }
   ],
   "source": [
    "solutions = solve(y == 0, x)\n",
    "for i, val in enumerate(solutions):\n",
    "    show(LatexExpr(\"x_{\"+ str(i+1) + \"} = \" + str(float(val.rhs().n()))))"
   ]
  },
  {
   "cell_type": "markdown",
   "metadata": {},
   "source": [
    "### Пересечение с осью OY"
   ]
  },
  {
   "cell_type": "markdown",
   "metadata": {},
   "source": [
    "При $x = 0$ функция не определена."
   ]
  },
  {
   "cell_type": "markdown",
   "metadata": {},
   "source": [
    "## 4. Промежутки знакопостоянства"
   ]
  },
  {
   "cell_type": "code",
   "execution_count": 33,
   "metadata": {},
   "outputs": [
    {
     "data": {
      "image/png": "[encoded data removed]",
      "text/plain": [
       "Graphics object consisting of 13 graphics primitives"
      ]
     },
     "metadata": {},
     "output_type": "display_data"
    }
   ],
   "source": [
    "# отдельный список для точек разрыва чтобы отмечать их на промежутке\n",
    "roots_null = [val.rhs().n(digits=5) for val in solve(g1 == 0, x) + solve(g2 == 0, x)]\n",
    "\n",
    "points = sorted(roots_null+[val.rhs().n(digits=5) for val in solutions])\n",
    "\n",
    "# отрисовка отрезка - основная линия для графика промежутков знакопостоянства\n",
    "intervals_of_constancy = plot(0, xmin=-0.2, xmax=0.8, ymin=-0.2, ymax=0.2)\n",
    "\n",
    "# добавление красных маркеров - отметки точек\\маркеров\n",
    "for i in range(len(points)):\n",
    "    intervals_of_constancy  += point((0+0.3*i, 0), color=\"red\", size=30, zorder=10)\n",
    "\n",
    "y_margin = 0.025  # смещение по оси Y элемента подписи, чтобы он не наслаивался на линию\n",
    "# здесь добавляем подписи точек (значения по оси X)\n",
    "for i, value in enumerate(points):\n",
    "    intervals_of_constancy  += text(\"${\"+str(value)+\"}$\", (0+0.3*i, -y_margin), color=\"black\", fontsize=14)\n",
    "    if value in roots_null:\n",
    "        intervals_of_constancy  += text(\"X\", (0+0.3*i, 0), color=\"black\", fontsize=12, zorder = 11)\n",
    "    \n",
    "def getSign(val):\n",
    "    return \"+\" if val > 0 else \"-\"\n",
    "\n",
    "gen = (0.15*i for i in range(-1, 6, 2))\n",
    "eps = 0.05\n",
    "\n",
    "# Здесь добавляем подписи знаков промежутков знакопостоянства\n",
    "\n",
    "intervals_of_constancy  += text(getSign(y(points[0]-eps)), (next(gen), y_margin), color=\"black\", fontsize=14) \n",
    "intervals_of_constancy  += text(\"не определена\", (next(gen), y_margin), color=\"black\", fontsize=9)\n",
    "intervals_of_constancy  += text(getSign(y((points[1]+points[2])/2)), (next(gen), y_margin), color=\"black\", fontsize=14)\n",
    "intervals_of_constancy  += text(getSign(y(points[2]+eps)), (next(gen), y_margin), color=\"black\", fontsize=14)\n",
    "\n",
    "# оси не нужны - скрываем\n",
    "intervals_of_constancy.show(axes=False)"
   ]
  },
  {
   "cell_type": "markdown",
   "metadata": {},
   "source": [
    "## 5. Промежутки возрастания и убывания"
   ]
  },
  {
   "cell_type": "code",
   "execution_count": 43,
   "metadata": {},
   "outputs": [
    {
     "data": {
      "image/png": "[encoded data removed]",
      "text/plain": [
       "Graphics object consisting of 3 graphics primitives"
      ]
     },
     "execution_count": 43,
     "metadata": {},
     "output_type": "execute_result"
    }
   ],
   "source": [
    "y_d = diff(y(x))\n",
    "plot(y_d, xmin = -10.0, xmax = 10.0, ymin = -10.0, ymax = 10.0, exclude = roots_null)"
   ]
  },
  {
   "cell_type": "code",
   "execution_count": 42,
   "metadata": {},
   "outputs": [
    {
     "data": {
      "image/png": "[encoded data removed]",
      "text/plain": [
       "Graphics object consisting of 13 graphics primitives"
      ]
     },
     "metadata": {},
     "output_type": "display_data"
    }
   ],
   "source": [
    "roots_null += [val.rhs().n(digits=5) for val in solve(y_d == 0, x)]\n",
    "# отрисовка отрезка - основная линия для графика промежутков знакопостоянства\n",
    "intervals_of_constancy = plot(0, xmin=-0.2, xmax=0.8, ymin=-0.2, ymax=0.2)\n",
    "\n",
    "# добавление красных маркеров - отметки точек\\маркеров\n",
    "for i in range(len(points)):\n",
    "    intervals_of_constancy  += point((0+0.3*i, 0), color=\"red\", size=30, zorder=10)\n",
    "\n",
    "y_margin = 0.025  # смещение по оси Y элемента подписи, чтобы он не наслаивался на линию\n",
    "# здесь добавляем подписи точек (значения по оси X)\n",
    "for i, value in enumerate(points):\n",
    "    intervals_of_constancy  += text(\"${\"+str(value)+\"}$\", (0+0.3*i, -y_margin), color=\"black\", fontsize=14)\n",
    "    if value in roots_null:\n",
    "        intervals_of_constancy  += text(\"X\", (0+0.3*i, 0), color=\"black\", fontsize=12, zorder = 11)\n",
    "    \n",
    "def getRotation(val):\n",
    "    return 30 if val > 0 else -30\n",
    "\n",
    "gen = (0.15*i for i in range(-1, 6, 2))\n",
    "eps = 0.05\n",
    "\n",
    "# Здесь добавляем подписи знаков промежутков знакопостоянства\n",
    "\n",
    "intervals_of_constancy  += text(\"→\", rotation = getRotation(y_d(points[0]-eps)), xy= (next(gen), y_margin), color=\"black\", fontsize=14) \n",
    "intervals_of_constancy  += text(\"не определена\", xy=(next(gen), y_margin), color=\"black\", fontsize=9)\n",
    "intervals_of_constancy  += text(\"→\", rotation = getRotation(y_d((points[1]+points[2])/2)), xy =(next(gen), y_margin), color=\"black\", fontsize=14)\n",
    "intervals_of_constancy  += text(\"→\", rotation = getRotation(y_d(points[2]+eps)),xy= (next(gen), y_margin), color=\"black\", fontsize=14)\n",
    "\n",
    "# оси не нужны - скрываем\n",
    "intervals_of_constancy.show(axes=False)"
   ]
  },
  {
   "cell_type": "markdown",
   "metadata": {},
   "source": [
    "## 6. Точки экстремума и значения в этих точках"
   ]
  },
  {
   "cell_type": "code",
   "execution_count": 68,
   "metadata": {},
   "outputs": [
    {
     "data": {
      "text/html": [
       "<html><script type=\"math/tex; mode=display\">\\newcommand{\\Bold}[1]{\\mathbf{#1}}\\verb|Точек|\\phantom{\\verb!x!}\\verb|экстремума|\\phantom{\\verb!x!}\\verb|нет.|</script></html>"
      ],
      "text/latex": [
       "\\begin{math}\n",
       "\\newcommand{\\Bold}[1]{\\mathbf{#1}}\\verb|Точек|\\phantom{\\verb!x!}\\verb|экстремума|\\phantom{\\verb!x!}\\verb|нет.|\n",
       "\\end{math}"
      ],
      "text/plain": [
       "'Точек экстремума нет.'"
      ]
     },
     "metadata": {},
     "output_type": "display_data"
    }
   ],
   "source": [
    "extremes = solve(y_d == 0, x)\n",
    "if len(extremes)==0:\n",
    "    show(\"Точек экстремума нет.\")\n",
    "else:\n",
    "    show(\"Точки экстремума: \")\n",
    "    for i, val in enumerate(extremes):\n",
    "        show(LatexExpr(\"x_{\"+ str(i+1) + \"} = \" + val))"
   ]
  },
  {
   "cell_type": "markdown",
   "metadata": {},
   "source": [
    "## 7. Непрерывность. Наличие точек разрыва и их классификация."
   ]
  },
  {
   "cell_type": "code",
   "execution_count": 69,
   "metadata": {},
   "outputs": [
    {
     "data": {
      "text/html": [
       "<html><script type=\"math/tex; mode=display\">\\newcommand{\\Bold}[1]{\\mathbf{#1}}x_1 = 1.0000 \\phantom{\\verb!x!}\\verb|разрыв|\\phantom{\\verb!x!}\\verb|второго|\\phantom{\\verb!x!}\\verb|рода|</script></html>"
      ],
      "text/latex": [
       "\\begin{math}\n",
       "\\newcommand{\\Bold}[1]{\\mathbf{#1}}x_1 = 1.0000 \\phantom{\\verb!x!}\\verb|разрыв|\\phantom{\\verb!x!}\\verb|второго|\\phantom{\\verb!x!}\\verb|рода|\n",
       "\\end{math}"
      ],
      "text/plain": [
       "x_1 = 1.0000 ' разрыв второго рода'"
      ]
     },
     "metadata": {},
     "output_type": "display_data"
    },
    {
     "data": {
      "text/html": [
       "<html><script type=\"math/tex; mode=display\">\\newcommand{\\Bold}[1]{\\mathbf{#1}}x_2 = 0.00000 \\phantom{\\verb!x!}\\verb|разрыв|\\phantom{\\verb!x!}\\verb|второго|\\phantom{\\verb!x!}\\verb|рода|</script></html>"
      ],
      "text/latex": [
       "\\begin{math}\n",
       "\\newcommand{\\Bold}[1]{\\mathbf{#1}}x_2 = 0.00000 \\phantom{\\verb!x!}\\verb|разрыв|\\phantom{\\verb!x!}\\verb|второго|\\phantom{\\verb!x!}\\verb|рода|\n",
       "\\end{math}"
      ],
      "text/plain": [
       "x_2 = 0.00000 ' разрыв второго рода'"
      ]
     },
     "metadata": {},
     "output_type": "display_data"
    }
   ],
   "source": [
    "for i, root in enumerate(roots_null):\n",
    "    lim_left = lim(y, x = root, dir = 'left')\n",
    "    lim_right = lim(y, x = root, dir = 'right')\n",
    "    if (lim_left == lim_right and abs(lim_left) != oo and abs(lim_right) != oo):\n",
    "        show(LatexExpr(\"x_\" + str(i+1) + \" = \" + str(root)), \" разрыв первого рода\")\n",
    "    else:\n",
    "        show(LatexExpr(\"x_\" + str(i+1) + \" = \" + str(root)), \" разрыв второго рода\")"
   ]
  },
  {
   "cell_type": "markdown",
   "metadata": {},
   "source": [
    "## 8. Асимптоты"
   ]
  },
  {
   "cell_type": "code",
   "execution_count": 50,
   "metadata": {},
   "outputs": [
    {
     "data": {
      "text/html": [
       "<html><script type=\"math/tex; mode=display\">\\newcommand{\\Bold}[1]{\\mathbf{#1}}\\lim_{x \\to +\\infty} y(x) = 1</script></html>"
      ],
      "text/latex": [
       "\\begin{math}\n",
       "\\newcommand{\\Bold}[1]{\\mathbf{#1}}\\lim_{x \\to +\\infty} y(x) = 1\n",
       "\\end{math}"
      ],
      "text/plain": [
       "\\lim_{x \\to +\\infty} y(x) = 1"
      ]
     },
     "metadata": {},
     "output_type": "display_data"
    },
    {
     "data": {
      "text/html": [
       "<html><script type=\"math/tex; mode=display\">\\newcommand{\\Bold}[1]{\\mathbf{#1}}\\lim_{x \\to -\\infty} y(x) = 1</script></html>"
      ],
      "text/latex": [
       "\\begin{math}\n",
       "\\newcommand{\\Bold}[1]{\\mathbf{#1}}\\lim_{x \\to -\\infty} y(x) = 1\n",
       "\\end{math}"
      ],
      "text/plain": [
       "\\lim_{x \\to -\\infty} y(x) = 1"
      ]
     },
     "metadata": {},
     "output_type": "display_data"
    }
   ],
   "source": [
    "lim_inf_right = lim(y, x = +oo)\n",
    "show(LatexExpr(r'\\lim_{x \\to +\\infty} y(x) = ') + str(lim_inf_right.simplify_full()))\n",
    "lim_inf_left = lim(y, x = -oo)\n",
    "show(LatexExpr(r'\\lim_{x \\to -\\infty} y(x) = ') + str(lim_inf_left.simplify_full()))"
   ]
  },
  {
   "cell_type": "markdown",
   "metadata": {},
   "source": [
    "Имеем асимптоту $y=1$, а также вертикальные асимптоты в точках разрыва $x = 0$ и $x=1$."
   ]
  },
  {
   "cell_type": "code",
   "execution_count": 58,
   "metadata": {},
   "outputs": [
    {
     "data": {
      "image/png": "[encoded data removed]",
      "text/plain": [
       "Graphics object consisting of 5 graphics primitives"
      ]
     },
     "execution_count": 58,
     "metadata": {},
     "output_type": "execute_result"
    }
   ],
   "source": [
    "plot(y, xmin = -10.0, xmax = 10.0)+plot(1, xmin = -10.0, xmax = 10.0, color=\"red\")+implicit_plot(x==0,(x,-10,10),(y,-10,10), color=\"red\")+implicit_plot(x==1, (x, -10, 10), (y,-10, 10), color=\"red\")"
   ]
  }
 ],
 "metadata": {
  "kernelspec": {
   "display_name": "SageMath 9.2",
   "language": "sage",
   "name": "sagemath"
  },
  "language_info": {
   "codemirror_mode": {
    "name": "ipython",
    "version": 3
   },
   "file_extension": ".py",
   "mimetype": "text/x-python",
   "name": "python",
   "nbconvert_exporter": "python",
   "pygments_lexer": "ipython3",
   "version": "3.7.7"
  }
 },
 "nbformat": 4,
 "nbformat_minor": 2
}
